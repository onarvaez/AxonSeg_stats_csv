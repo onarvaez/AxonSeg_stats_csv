{
 "cells": [
  {
   "cell_type": "code",
   "execution_count": 20,
   "metadata": {
    "collapsed": true
   },
   "outputs": [],
   "source": [
    "import pandas as pd"
   ]
  },
  {
   "cell_type": "code",
   "execution_count": 21,
   "metadata": {
    "collapsed": true
   },
   "outputs": [],
   "source": [
    "axonlist_exp_1 = pd.read_csv('/home/onarvaez/Documents/good/Aqueronte_hist/is01/histology/nerve_right_intact/proc/axonlist_image_no.csv')\n",
    "axonlist_exp_2 = pd.read_csv('/home/onarvaez/Documents/good/Aqueronte_hist/is02/histology/nerve_right_intact/proc/axonlist_image_no.csv')\n",
    "axonlist_exp_3 = pd.read_csv('/home/onarvaez/Documents/good/Aqueronte_hist/is03/histology/nerve_left_intact/proc/axonlist_image_no.csv')\n",
    "axonlist_exp_4 = pd.read_csv('/home/onarvaez/Documents/good/Aqueronte_hist/is04/histology/nerve_right_intact/proc/axonlist_image_no.csv')\n",
    "axonlist_exp_5 = pd.read_csv('/home/onarvaez/Documents/good/Aqueronte_hist/is05/histology/nerve_left_intact/proc/axonlist_image_no.csv')\n",
    "axonlist_exp_6 = pd.read_csv('/home/onarvaez/Documents/good/Aqueronte_hist/is06/histology/nerve_right_intact/proc/axonlist_image_no.csv')\n",
    "axonlist_exp_7 = pd.read_csv('/home/onarvaez/Documents/good/Aqueronte_hist/is07/histology/nerve_left_intact/proc/axonlist_image_no.csv')\n",
    "axonlist_exp_8 = pd.read_csv('/home/onarvaez/Documents/good/Aqueronte_hist/is08/histology/nerve_left_intact/proc/axonlist_image_no.csv')\n",
    "axonlist_exp_9 = pd.read_csv('/home/onarvaez/Documents/good/Aqueronte_hist/is09/histology/nerve_left_intact/proc/axonlist_image_no.csv')\n",
    "axonlist_exp_10 = pd.read_csv('/home/onarvaez/Documents/good/Aqueronte_hist/is10/histology/nerve_left_intact/proc/axonlist_image_no.csv')"
   ]
  },
  {
   "cell_type": "code",
   "execution_count": 22,
   "metadata": {
    "collapsed": true,
    "scrolled": true
   },
   "outputs": [],
   "source": [
    "axonlist_exp_all = pd.concat([axonlist_exp_1, axonlist_exp_2, axonlist_exp_3, axonlist_exp_4, axonlist_exp_5, axonlist_exp_6, axonlist_exp_7, axonlist_exp_8, axonlist_exp_9, axonlist_exp_10])"
   ]
  },
  {
   "cell_type": "code",
   "execution_count": 23,
   "metadata": {
    "collapsed": true
   },
   "outputs": [],
   "source": [
    "axonlist_exp_all.to_csv('/home/onarvaez/Documents/good/Aqueronte_hist/axonlist_exp_all_no.csv')"
   ]
  },
  {
   "cell_type": "code",
   "execution_count": 25,
   "metadata": {
    "collapsed": true
   },
   "outputs": [],
   "source": [
    "axonlist_exp_deg_1 = pd.read_csv('/home/onarvaez/Documents/good/Aqueronte_hist/is01/histology/nerve_left_degenerated/proc/axonlist_image_no.csv')\n",
    "axonlist_exp_deg_2 = pd.read_csv('/home/onarvaez/Documents/good/Aqueronte_hist/is02/histology/nerve_left_degenerated/proc/axonlist_image_no.csv')\n",
    "axonlist_exp_deg_3 = pd.read_csv('/home/onarvaez/Documents/good/Aqueronte_hist/is03/histology/nerve_right_degenerated/proc/axonlist_image_no.csv')\n",
    "axonlist_exp_deg_4 = pd.read_csv('/home/onarvaez/Documents/good/Aqueronte_hist/is04/histology/nerve_left_degenerated/proc/axonlist_image_no.csv')\n",
    "axonlist_exp_deg_5 = pd.read_csv('/home/onarvaez/Documents/good/Aqueronte_hist/is05/histology/nerve_right_degenerated/proc/axonlist_image_no.csv')\n",
    "axonlist_exp_deg_6 = pd.read_csv('/home/onarvaez/Documents/good/Aqueronte_hist/is06/histology/nerve_left_degenerated/proc/axonlist_image_no.csv')\n",
    "axonlist_exp_deg_7 = pd.read_csv('/home/onarvaez/Documents/good/Aqueronte_hist/is07/histology/nerve_right_degenerated/proc/axonlist_image_no.csv')\n",
    "axonlist_exp_deg_8 = pd.read_csv('/home/onarvaez/Documents/good/Aqueronte_hist/is08/histology/nerve_right_degenerated/proc/axonlist_image_no.csv')\n",
    "axonlist_exp_deg_9 = pd.read_csv('/home/onarvaez/Documents/good/Aqueronte_hist/is09/histology/nerve_right_degenerated/proc/axonlist_image_no.csv')\n",
    "axonlist_exp_deg_10 = pd.read_csv('/home/onarvaez/Documents/good/Aqueronte_hist/is10/histology/nerve_right_degenerated/proc/axonlist_image_no.csv')"
   ]
  },
  {
   "cell_type": "code",
   "execution_count": 26,
   "metadata": {
    "collapsed": true
   },
   "outputs": [],
   "source": [
    "axonlist_exp_deg_all = pd.concat([axonlist_exp_deg_1, axonlist_exp_deg_2, axonlist_exp_deg_3, axonlist_exp_deg_4, axonlist_exp_deg_5, axonlist_exp_deg_6, axonlist_exp_deg_7, axonlist_exp_deg_8, axonlist_exp_deg_9, axonlist_exp_deg_10])"
   ]
  },
  {
   "cell_type": "code",
   "execution_count": 27,
   "metadata": {
    "collapsed": true
   },
   "outputs": [],
   "source": [
    "axonlist_exp_deg_all.to_csv('/home/onarvaez/Documents/good/Aqueronte_hist/axonlist_exp_all_deg.csv')"
   ]
  },
  {
   "cell_type": "code",
   "execution_count": 28,
   "metadata": {
    "collapsed": true
   },
   "outputs": [],
   "source": [
    "axonlist_exp_chiasm_1 = pd.read_csv('/home/onarvaez/Documents/good/Aqueronte_hist/is01/histology/chiasm/proc/axonlist_image_no.csv')\n",
    "axonlist_exp_chiasm_2 = pd.read_csv('/home/onarvaez/Documents/good/Aqueronte_hist/is02/histology/chiasm/proc/axonlist_image_no.csv')\n",
    "axonlist_exp_chiasm_3 = pd.read_csv('/home/onarvaez/Documents/good/Aqueronte_hist/is03/histology/chiasm/proc/axonlist_image_no.csv')\n",
    "axonlist_exp_chiasm_4 = pd.read_csv('/home/onarvaez/Documents/good/Aqueronte_hist/is04/histology/chiasm/proc/axonlist_image_no.csv')\n",
    "axonlist_exp_chiasm_5 = pd.read_csv('/home/onarvaez/Documents/good/Aqueronte_hist/is05/histology/chiasm/proc/axonlist_image_no.csv')\n",
    "axonlist_exp_chiasm_6 = pd.read_csv('/home/onarvaez/Documents/good/Aqueronte_hist/is06/histology/chiasm/proc/axonlist_image_no.csv')\n",
    "axonlist_exp_chiasm_7 = pd.read_csv('/home/onarvaez/Documents/good/Aqueronte_hist/is07/histology/chiasm/proc/axonlist_image_no.csv')\n",
    "axonlist_exp_chiasm_8 = pd.read_csv('/home/onarvaez/Documents/good/Aqueronte_hist/is08/histology/chiasm/proc/axonlist_image_no.csv')\n",
    "axonlist_exp_chiasm_9 = pd.read_csv('/home/onarvaez/Documents/good/Aqueronte_hist/is09/histology/chiasm/proc/axonlist_image_no.csv')\n",
    "axonlist_exp_chiasm_10 = pd.read_csv('/home/onarvaez/Documents/good/Aqueronte_hist/is10/histology/chiasm/proc/axonlist_image_no.csv')"
   ]
  },
  {
   "cell_type": "code",
   "execution_count": 30,
   "metadata": {
    "collapsed": true
   },
   "outputs": [],
   "source": [
    "axonlist_exp_chiasm_all = pd.concat([axonlist_exp_chiasm_1, axonlist_exp_chiasm_2, axonlist_exp_chiasm_3, axonlist_exp_chiasm_4, axonlist_exp_chiasm_5, axonlist_exp_chiasm_6, axonlist_exp_chiasm_7, axonlist_exp_chiasm_8, axonlist_exp_chiasm_9, axonlist_exp_chiasm_10])"
   ]
  },
  {
   "cell_type": "code",
   "execution_count": 31,
   "metadata": {
    "collapsed": true
   },
   "outputs": [],
   "source": [
    "axonlist_exp_chiasm_all.to_csv('/home/onarvaez/Documents/good/Aqueronte_hist/axonlist_exp_all_chiasm.csv')"
   ]
  },
  {
   "cell_type": "code",
   "execution_count": null,
   "metadata": {
    "collapsed": true
   },
   "outputs": [],
   "source": []
  }
 ],
 "metadata": {
  "kernelspec": {
   "display_name": "Python 3",
   "language": "python",
   "name": "python3"
  },
  "language_info": {
   "codemirror_mode": {
    "name": "ipython",
    "version": 3
   },
   "file_extension": ".py",
   "mimetype": "text/x-python",
   "name": "python",
   "nbconvert_exporter": "python",
   "pygments_lexer": "ipython3",
   "version": "3.6.3"
  }
 },
 "nbformat": 4,
 "nbformat_minor": 2
}
