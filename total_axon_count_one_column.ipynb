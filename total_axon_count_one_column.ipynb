{
 "cells": [
  {
   "cell_type": "code",
   "execution_count": 36,
   "metadata": {
    "collapsed": true
   },
   "outputs": [],
   "source": [
    "import pandas as pd \n",
    "import numpy as np\n",
    "import matplotlib.pyplot as plt"
   ]
  },
  {
   "cell_type": "code",
   "execution_count": 87,
   "metadata": {
    "collapsed": true
   },
   "outputs": [],
   "source": [
    "axonlist_1 = pd.read_csv('/misc/torrey/onarvaez/Aqueronte_hist/ct01/histology/nerve_a_intact/proc/1_segmentation/axonlist_image.csv')\n",
    "axonlist_2 = pd.read_csv('/misc/torrey/onarvaez/Aqueronte_hist/ct01/histology/nerve_a_intact/proc/2_segmentation/axonlist_image.csv')\n",
    "axonlist_3 = pd.read_csv('/misc/torrey/onarvaez/Aqueronte_hist/ct01/histology/nerve_a_intact/proc/3_segmentation/axonlist_image.csv')\n",
    "axonlist_4 = pd.read_csv('/misc/torrey/onarvaez/Aqueronte_hist/ct01/histology/nerve_a_intact/proc/4_segmentation/axonlist_image.csv')\n",
    "axonlist_5 = pd.read_csv('/misc/torrey/onarvaez/Aqueronte_hist/ct01/histology/nerve_a_intact/proc/5_segmentation/axonlist_image.csv')\n",
    "axonlist_6 = pd.read_csv('/misc/torrey/onarvaez/Aqueronte_hist/ct01/histology/nerve_a_intact/proc/6_segmentation/axonlist_image.csv')\n",
    "axonlist_7 = pd.read_csv('/misc/torrey/onarvaez/Aqueronte_hist/ct01/histology/nerve_a_intact/proc/7_segmentation/axonlist_image.csv')\n",
    "axonlist_8 = pd.read_csv('/misc/torrey/onarvaez/Aqueronte_hist/ct01/histology/nerve_a_intact/proc/8_segmentation/axonlist_image.csv')\n",
    "axonlist_9 = pd.read_csv('/misc/torrey/onarvaez/Aqueronte_hist/ct01/histology/nerve_a_intact/proc/9_segmentation/axonlist_image.csv')\n",
    "axonlist_10 = pd.read_csv('/misc/torrey/onarvaez/Aqueronte_hist/ct01/histology/nerve_a_intact/proc/10_segmentation/axonlist_image.csv')\n"
   ]
  },
  {
   "cell_type": "code",
   "execution_count": 188,
   "metadata": {
    "collapsed": true
   },
   "outputs": [],
   "source": [
    "axon_count_1 = axonlist_1.count(axis=0)\n",
    "axon_count_2 = axonlist_2.count(axis=0)\n",
    "axon_count_3 = axonlist_3.count(axis=0)\n",
    "axon_count_4 = axonlist_4.count(axis=0)\n",
    "axon_count_5 = axonlist_5.count(axis=0)\n",
    "axon_count_6 = axonlist_6.count(axis=0)\n",
    "axon_count_7 = axonlist_7.count(axis=0)\n",
    "axon_count_8 = axonlist_8.count(axis=0)\n",
    "axon_count_9 = axonlist_9.count(axis=0)\n",
    "axon_count_10 = axonlist_10.count(axis=0)"
   ]
  },
  {
   "cell_type": "code",
   "execution_count": 189,
   "metadata": {},
   "outputs": [
    {
     "data": {
      "text/plain": [
       "pandas.core.series.Series"
      ]
     },
     "execution_count": 189,
     "metadata": {},
     "output_type": "execute_result"
    }
   ],
   "source": [
    "type (axon_count)\n"
   ]
  },
  {
   "cell_type": "code",
   "execution_count": 190,
   "metadata": {
    "collapsed": true
   },
   "outputs": [],
   "source": [
    "total_axon_1 = axon_count_1.value_counts('myelinArea')"
   ]
  },
  {
   "cell_type": "code",
   "execution_count": 191,
   "metadata": {},
   "outputs": [
    {
     "data": {
      "text/plain": [
       "3201    1.0\n",
       "dtype: float64"
      ]
     },
     "execution_count": 191,
     "metadata": {},
     "output_type": "execute_result"
    }
   ],
   "source": [
    "total_axon_1"
   ]
  },
  {
   "cell_type": "code",
   "execution_count": 192,
   "metadata": {
    "collapsed": true
   },
   "outputs": [],
   "source": [
    "total_axon_1 = axon_count_1.value_counts('myelinArea')\n",
    "total_axon_2 = axon_count_2.value_counts('myelinArea')\n",
    "total_axon_3 = axon_count_3.value_counts('myelinArea')\n",
    "total_axon_4 = axon_count_4.value_counts('myelinArea')\n",
    "total_axon_5 = axon_count_5.value_counts('myelinArea')\n",
    "total_axon_6 = axon_count_6.value_counts('myelinArea')\n",
    "total_axon_7 = axon_count_7.value_counts('myelinArea')\n",
    "total_axon_8 = axon_count_8.value_counts('myelinArea')\n",
    "total_axon_9 = axon_count_9.value_counts('myelinArea')\n",
    "total_axon_10 = axon_count_10.value_counts('myelinArea')\n"
   ]
  },
  {
   "cell_type": "code",
   "execution_count": 193,
   "metadata": {
    "collapsed": true
   },
   "outputs": [],
   "source": [
    "total_axon_count = pd.concat([total_axon_1, total_axon_2, total_axon_3, total_axon_4, total_axon_5, total_axon_6, total_axon_7, total_axon_8, total_axon_9, total_axon_10])"
   ]
  },
  {
   "cell_type": "code",
   "execution_count": 220,
   "metadata": {},
   "outputs": [
    {
     "data": {
      "text/plain": [
       "3201    1.0\n",
       "3677    1.0\n",
       "2749    1.0\n",
       "3631    1.0\n",
       "2828    1.0\n",
       "2921    1.0\n",
       "3292    1.0\n",
       "3277    1.0\n",
       "3398    1.0\n",
       "3392    1.0\n",
       "dtype: float64"
      ]
     },
     "execution_count": 220,
     "metadata": {},
     "output_type": "execute_result"
    }
   ],
   "source": [
    "total_axon_count"
   ]
  },
  {
   "cell_type": "code",
   "execution_count": 221,
   "metadata": {
    "collapsed": true
   },
   "outputs": [],
   "source": [
    "total_axon_count.to_csv('/misc/torrey/onarvaez/TMP/pandas_training/ct01/histology/nerve_a_intact/proc/total_frame.csv')"
   ]
  },
  {
   "cell_type": "code",
   "execution_count": 223,
   "metadata": {
    "collapsed": true
   },
   "outputs": [],
   "source": [
    "col_Names=[\"total_axon\",\"delete\"]\n",
    "tool= pd.read_csv('/misc/torrey/onarvaez/TMP/pandas_training/ct01/histology/nerve_a_intact/proc/total_frame.csv',names=col_Names)"
   ]
  },
  {
   "cell_type": "code",
   "execution_count": 224,
   "metadata": {},
   "outputs": [
    {
     "data": {
      "text/html": [
       "<div>\n",
       "<style scoped>\n",
       "    .dataframe tbody tr th:only-of-type {\n",
       "        vertical-align: middle;\n",
       "    }\n",
       "\n",
       "    .dataframe tbody tr th {\n",
       "        vertical-align: top;\n",
       "    }\n",
       "\n",
       "    .dataframe thead th {\n",
       "        text-align: right;\n",
       "    }\n",
       "</style>\n",
       "<table border=\"1\" class=\"dataframe\">\n",
       "  <thead>\n",
       "    <tr style=\"text-align: right;\">\n",
       "      <th></th>\n",
       "      <th>total_axon</th>\n",
       "      <th>delete</th>\n",
       "    </tr>\n",
       "  </thead>\n",
       "  <tbody>\n",
       "    <tr>\n",
       "      <th>0</th>\n",
       "      <td>3201</td>\n",
       "      <td>1.0</td>\n",
       "    </tr>\n",
       "    <tr>\n",
       "      <th>1</th>\n",
       "      <td>3677</td>\n",
       "      <td>1.0</td>\n",
       "    </tr>\n",
       "    <tr>\n",
       "      <th>2</th>\n",
       "      <td>2749</td>\n",
       "      <td>1.0</td>\n",
       "    </tr>\n",
       "    <tr>\n",
       "      <th>3</th>\n",
       "      <td>3631</td>\n",
       "      <td>1.0</td>\n",
       "    </tr>\n",
       "    <tr>\n",
       "      <th>4</th>\n",
       "      <td>2828</td>\n",
       "      <td>1.0</td>\n",
       "    </tr>\n",
       "    <tr>\n",
       "      <th>5</th>\n",
       "      <td>2921</td>\n",
       "      <td>1.0</td>\n",
       "    </tr>\n",
       "    <tr>\n",
       "      <th>6</th>\n",
       "      <td>3292</td>\n",
       "      <td>1.0</td>\n",
       "    </tr>\n",
       "    <tr>\n",
       "      <th>7</th>\n",
       "      <td>3277</td>\n",
       "      <td>1.0</td>\n",
       "    </tr>\n",
       "    <tr>\n",
       "      <th>8</th>\n",
       "      <td>3398</td>\n",
       "      <td>1.0</td>\n",
       "    </tr>\n",
       "    <tr>\n",
       "      <th>9</th>\n",
       "      <td>3392</td>\n",
       "      <td>1.0</td>\n",
       "    </tr>\n",
       "  </tbody>\n",
       "</table>\n",
       "</div>"
      ],
      "text/plain": [
       "   total_axon  delete\n",
       "0        3201     1.0\n",
       "1        3677     1.0\n",
       "2        2749     1.0\n",
       "3        3631     1.0\n",
       "4        2828     1.0\n",
       "5        2921     1.0\n",
       "6        3292     1.0\n",
       "7        3277     1.0\n",
       "8        3398     1.0\n",
       "9        3392     1.0"
      ]
     },
     "execution_count": 224,
     "metadata": {},
     "output_type": "execute_result"
    }
   ],
   "source": [
    "tool"
   ]
  },
  {
   "cell_type": "code",
   "execution_count": 226,
   "metadata": {
    "collapsed": true
   },
   "outputs": [],
   "source": [
    "total_axon = tool.drop('delete', axis=1)"
   ]
  },
  {
   "cell_type": "code",
   "execution_count": 229,
   "metadata": {
    "collapsed": true
   },
   "outputs": [],
   "source": [
    "total_axon.to_csv('/misc/torrey/onarvaez/TMP/pandas_training/ct01/histology/nerve_a_intact/proc/total_axon.csv')"
   ]
  },
  {
   "cell_type": "code",
   "execution_count": 232,
   "metadata": {},
   "outputs": [
    {
     "data": {
      "text/html": [
       "<div>\n",
       "<style scoped>\n",
       "    .dataframe tbody tr th:only-of-type {\n",
       "        vertical-align: middle;\n",
       "    }\n",
       "\n",
       "    .dataframe tbody tr th {\n",
       "        vertical-align: top;\n",
       "    }\n",
       "\n",
       "    .dataframe thead th {\n",
       "        text-align: right;\n",
       "    }\n",
       "</style>\n",
       "<table border=\"1\" class=\"dataframe\">\n",
       "  <thead>\n",
       "    <tr style=\"text-align: right;\">\n",
       "      <th></th>\n",
       "      <th>total_axon</th>\n",
       "    </tr>\n",
       "  </thead>\n",
       "  <tbody>\n",
       "    <tr>\n",
       "      <th>0</th>\n",
       "      <td>3201</td>\n",
       "    </tr>\n",
       "    <tr>\n",
       "      <th>1</th>\n",
       "      <td>3677</td>\n",
       "    </tr>\n",
       "    <tr>\n",
       "      <th>2</th>\n",
       "      <td>2749</td>\n",
       "    </tr>\n",
       "    <tr>\n",
       "      <th>3</th>\n",
       "      <td>3631</td>\n",
       "    </tr>\n",
       "    <tr>\n",
       "      <th>4</th>\n",
       "      <td>2828</td>\n",
       "    </tr>\n",
       "    <tr>\n",
       "      <th>5</th>\n",
       "      <td>2921</td>\n",
       "    </tr>\n",
       "    <tr>\n",
       "      <th>6</th>\n",
       "      <td>3292</td>\n",
       "    </tr>\n",
       "    <tr>\n",
       "      <th>7</th>\n",
       "      <td>3277</td>\n",
       "    </tr>\n",
       "    <tr>\n",
       "      <th>8</th>\n",
       "      <td>3398</td>\n",
       "    </tr>\n",
       "    <tr>\n",
       "      <th>9</th>\n",
       "      <td>3392</td>\n",
       "    </tr>\n",
       "  </tbody>\n",
       "</table>\n",
       "</div>"
      ],
      "text/plain": [
       "   total_axon\n",
       "0        3201\n",
       "1        3677\n",
       "2        2749\n",
       "3        3631\n",
       "4        2828\n",
       "5        2921\n",
       "6        3292\n",
       "7        3277\n",
       "8        3398\n",
       "9        3392"
      ]
     },
     "execution_count": 232,
     "metadata": {},
     "output_type": "execute_result"
    }
   ],
   "source": [
    "total_axon"
   ]
  },
  {
   "cell_type": "code",
   "execution_count": null,
   "metadata": {
    "collapsed": true
   },
   "outputs": [],
   "source": []
  }
 ],
 "metadata": {
  "kernelspec": {
   "display_name": "Python 3",
   "language": "python",
   "name": "python3"
  },
  "language_info": {
   "codemirror_mode": {
    "name": "ipython",
    "version": 3
   },
   "file_extension": ".py",
   "mimetype": "text/x-python",
   "name": "python",
   "nbconvert_exporter": "python",
   "pygments_lexer": "ipython3",
   "version": "3.6.3"
  }
 },
 "nbformat": 4,
 "nbformat_minor": 2
}
