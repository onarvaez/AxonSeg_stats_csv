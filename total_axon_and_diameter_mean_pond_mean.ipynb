{
 "cells": [
  {
   "cell_type": "code",
   "execution_count": 1,
   "metadata": {
    "collapsed": true
   },
   "outputs": [],
   "source": [
    "import pandas as pd \n",
    "import numpy as np\n",
    "import matplotlib.pyplot as plt"
   ]
  },
  {
   "cell_type": "code",
   "execution_count": null,
   "metadata": {
    "collapsed": true
   },
   "outputs": [],
   "source": [
    "#load axonlist and stats_image files"
   ]
  },
  {
   "cell_type": "code",
   "execution_count": 3,
   "metadata": {
    "collapsed": true
   },
   "outputs": [],
   "source": [
    "axonlist_1 = pd.read_csv('/misc/torrey/onarvaez/TMP/pandas_training/ct01/histology/nerve_b_intact/proc/1_segmentation/axonlist_image.csv')\n",
    "axonlist_2 = pd.read_csv('/misc/torrey/onarvaez/TMP/pandas_training/ct01/histology/nerve_b_intact/proc/2_segmentation/axonlist_image.csv')\n",
    "axonlist_3 = pd.read_csv('/misc/torrey/onarvaez/TMP/pandas_training/ct01/histology/nerve_b_intact/proc/3_segmentation/axonlist_image.csv')\n",
    "axonlist_4 = pd.read_csv('/misc/torrey/onarvaez/TMP/pandas_training/ct01/histology/nerve_b_intact/proc/4_segmentation/axonlist_image.csv')\n",
    "axonlist_5 = pd.read_csv('/misc/torrey/onarvaez/TMP/pandas_training/ct01/histology/nerve_b_intact/proc/5_segmentation/axonlist_image.csv')\n",
    "axonlist_6 = pd.read_csv('/misc/torrey/onarvaez/TMP/pandas_training/ct01/histology/nerve_b_intact/proc/6_segmentation/axonlist_image.csv')\n",
    "axonlist_7 = pd.read_csv('/misc/torrey/onarvaez/TMP/pandas_training/ct01/histology/nerve_b_intact/proc/7_segmentation/axonlist_image.csv')\n",
    "axonlist_8 = pd.read_csv('/misc/torrey/onarvaez/TMP/pandas_training/ct01/histology/nerve_b_intact/proc/8_segmentation/axonlist_image.csv')\n",
    "axonlist_9 = pd.read_csv('/misc/torrey/onarvaez/TMP/pandas_training/ct01/histology/nerve_b_intact/proc/9_segmentation/axonlist_image.csv')\n",
    "axonlist_10 = pd.read_csv('/misc/torrey/onarvaez/TMP/pandas_training/ct01/histology/nerve_b_intact/proc/10_segmentation/axonlist_image.csv')"
   ]
  },
  {
   "cell_type": "code",
   "execution_count": 4,
   "metadata": {
    "collapsed": true
   },
   "outputs": [],
   "source": [
    "ax1 = pd.read_csv('/misc/torrey/onarvaez/TMP/pandas_training/ct01/histology/nerve_b_intact/proc/1_segmentation/stats_image.csv')\n",
    "ax2 = pd.read_csv('/misc/torrey/onarvaez/TMP/pandas_training/ct01/histology/nerve_b_intact/proc/2_segmentation/stats_image.csv')\n",
    "ax3 = pd.read_csv('/misc/torrey/onarvaez/TMP/pandas_training/ct01/histology/nerve_b_intact/proc/3_segmentation/stats_image.csv')\n",
    "ax4 = pd.read_csv('/misc/torrey/onarvaez/TMP/pandas_training/ct01/histology/nerve_b_intact/proc/4_segmentation/stats_image.csv')\n",
    "ax5 = pd.read_csv('/misc/torrey/onarvaez/TMP/pandas_training/ct01/histology/nerve_b_intact/proc/5_segmentation/stats_image.csv')\n",
    "ax6 = pd.read_csv('/misc/torrey/onarvaez/TMP/pandas_training/ct01/histology/nerve_b_intact/proc/6_segmentation/stats_image.csv')\n",
    "ax7 = pd.read_csv('/misc/torrey/onarvaez/TMP/pandas_training/ct01/histology/nerve_b_intact/proc/7_segmentation/stats_image.csv')\n",
    "ax8 = pd.read_csv('/misc/torrey/onarvaez/TMP/pandas_training/ct01/histology/nerve_b_intact/proc/8_segmentation/stats_image.csv')\n",
    "ax9 = pd.read_csv('/misc/torrey/onarvaez/TMP/pandas_training/ct01/histology/nerve_b_intact/proc/9_segmentation/stats_image.csv')\n",
    "ax10 = pd.read_csv('/misc/torrey/onarvaez/TMP/pandas_training/ct01/histology/nerve_b_intact/proc/10_segmentation/stats_image.csv')"
   ]
  },
  {
   "cell_type": "code",
   "execution_count": 5,
   "metadata": {
    "collapsed": true
   },
   "outputs": [],
   "source": [
    "#axon count from axonlist"
   ]
  },
  {
   "cell_type": "code",
   "execution_count": 6,
   "metadata": {
    "collapsed": true
   },
   "outputs": [],
   "source": [
    "axon_count_1 = axonlist_1.count(axis=0)\n",
    "axon_count_2 = axonlist_2.count(axis=0)\n",
    "axon_count_3 = axonlist_3.count(axis=0)\n",
    "axon_count_4 = axonlist_4.count(axis=0)\n",
    "axon_count_5 = axonlist_5.count(axis=0)\n",
    "axon_count_6 = axonlist_6.count(axis=0)\n",
    "axon_count_7 = axonlist_7.count(axis=0)\n",
    "axon_count_8 = axonlist_8.count(axis=0)\n",
    "axon_count_9 = axonlist_9.count(axis=0)\n",
    "axon_count_10 = axonlist_10.count(axis=0)"
   ]
  },
  {
   "cell_type": "code",
   "execution_count": 7,
   "metadata": {},
   "outputs": [
    {
     "data": {
      "text/plain": [
       "3938    1.0\n",
       "dtype: float64"
      ]
     },
     "execution_count": 7,
     "metadata": {},
     "output_type": "execute_result"
    }
   ],
   "source": [
    "total_axon_1 = axon_count_1.value_counts('myelinArea')\n",
    "total_axon_1"
   ]
  },
  {
   "cell_type": "code",
   "execution_count": 10,
   "metadata": {
    "collapsed": true
   },
   "outputs": [],
   "source": [
    "total_axon_1 = axon_count_1.value_counts('myelinArea')\n",
    "total_axon_2 = axon_count_2.value_counts('myelinArea')\n",
    "total_axon_3 = axon_count_3.value_counts('myelinArea')\n",
    "total_axon_4 = axon_count_4.value_counts('myelinArea')\n",
    "total_axon_5 = axon_count_5.value_counts('myelinArea')\n",
    "total_axon_6 = axon_count_6.value_counts('myelinArea')\n",
    "total_axon_7 = axon_count_7.value_counts('myelinArea')\n",
    "total_axon_8 = axon_count_8.value_counts('myelinArea')\n",
    "total_axon_9 = axon_count_9.value_counts('myelinArea')\n",
    "total_axon_10 = axon_count_10.value_counts('myelinArea')"
   ]
  },
  {
   "cell_type": "code",
   "execution_count": 11,
   "metadata": {},
   "outputs": [
    {
     "data": {
      "text/html": [
       "<div>\n",
       "<style scoped>\n",
       "    .dataframe tbody tr th:only-of-type {\n",
       "        vertical-align: middle;\n",
       "    }\n",
       "\n",
       "    .dataframe tbody tr th {\n",
       "        vertical-align: top;\n",
       "    }\n",
       "\n",
       "    .dataframe thead th {\n",
       "        text-align: right;\n",
       "    }\n",
       "</style>\n",
       "<table border=\"1\" class=\"dataframe\">\n",
       "  <thead>\n",
       "    <tr style=\"text-align: right;\">\n",
       "      <th></th>\n",
       "      <th>total_axon</th>\n",
       "    </tr>\n",
       "  </thead>\n",
       "  <tbody>\n",
       "    <tr>\n",
       "      <th>0</th>\n",
       "      <td>3938</td>\n",
       "    </tr>\n",
       "    <tr>\n",
       "      <th>1</th>\n",
       "      <td>3677</td>\n",
       "    </tr>\n",
       "    <tr>\n",
       "      <th>2</th>\n",
       "      <td>4737</td>\n",
       "    </tr>\n",
       "    <tr>\n",
       "      <th>3</th>\n",
       "      <td>3825</td>\n",
       "    </tr>\n",
       "    <tr>\n",
       "      <th>4</th>\n",
       "      <td>4278</td>\n",
       "    </tr>\n",
       "    <tr>\n",
       "      <th>5</th>\n",
       "      <td>4473</td>\n",
       "    </tr>\n",
       "    <tr>\n",
       "      <th>6</th>\n",
       "      <td>4145</td>\n",
       "    </tr>\n",
       "    <tr>\n",
       "      <th>7</th>\n",
       "      <td>3588</td>\n",
       "    </tr>\n",
       "    <tr>\n",
       "      <th>8</th>\n",
       "      <td>3616</td>\n",
       "    </tr>\n",
       "    <tr>\n",
       "      <th>9</th>\n",
       "      <td>3534</td>\n",
       "    </tr>\n",
       "  </tbody>\n",
       "</table>\n",
       "</div>"
      ],
      "text/plain": [
       "   total_axon\n",
       "0        3938\n",
       "1        3677\n",
       "2        4737\n",
       "3        3825\n",
       "4        4278\n",
       "5        4473\n",
       "6        4145\n",
       "7        3588\n",
       "8        3616\n",
       "9        3534"
      ]
     },
     "execution_count": 11,
     "metadata": {},
     "output_type": "execute_result"
    }
   ],
   "source": [
    "total_axon_count = pd.concat([total_axon_1, total_axon_2, total_axon_3, total_axon_4, total_axon_5, total_axon_6, total_axon_7, total_axon_8, total_axon_9, total_axon_10])\n",
    "total_axon_count\n",
    "total_axon_count.to_csv('/misc/torrey/onarvaez/TMP/pandas_training/ct01/histology/nerve_b_intact/proc/total_axon_count.csv')\n",
    "col_Names=[\"total_axon\",\"delete\"]\n",
    "tool= pd.read_csv('/misc/torrey/onarvaez/TMP/pandas_training/ct01/histology/nerve_b_intact/proc/total_axon_count.csv',names=col_Names)\n",
    "tool\n",
    "total_axon = tool.drop('delete', axis=1)\n",
    "total_axon.to_csv('/misc/torrey/onarvaez/TMP/pandas_training/ct01/histology/nerve_b_intact/proc/total_axon.csv')\n",
    "total_axon"
   ]
  },
  {
   "cell_type": "code",
   "execution_count": 12,
   "metadata": {
    "collapsed": true
   },
   "outputs": [],
   "source": [
    "#myelin and axon parameters concat "
   ]
  },
  {
   "cell_type": "code",
   "execution_count": 13,
   "metadata": {
    "collapsed": true
   },
   "outputs": [],
   "source": [
    "ax_concat = pd.concat([ax1, ax2, ax3, ax4, ax5, ax6, ax7, ax8, ax9, ax10])"
   ]
  },
  {
   "cell_type": "code",
   "execution_count": 15,
   "metadata": {},
   "outputs": [
    {
     "data": {
      "text/html": [
       "<div>\n",
       "<style scoped>\n",
       "    .dataframe tbody tr th:only-of-type {\n",
       "        vertical-align: middle;\n",
       "    }\n",
       "\n",
       "    .dataframe tbody tr th {\n",
       "        vertical-align: top;\n",
       "    }\n",
       "\n",
       "    .dataframe thead th {\n",
       "        text-align: right;\n",
       "    }\n",
       "</style>\n",
       "<table border=\"1\" class=\"dataframe\">\n",
       "  <thead>\n",
       "    <tr style=\"text-align: right;\">\n",
       "      <th></th>\n",
       "      <th>axon_diameter_mean</th>\n",
       "    </tr>\n",
       "  </thead>\n",
       "  <tbody>\n",
       "    <tr>\n",
       "      <th>0</th>\n",
       "      <td>0.840599</td>\n",
       "    </tr>\n",
       "    <tr>\n",
       "      <th>0</th>\n",
       "      <td>0.839715</td>\n",
       "    </tr>\n",
       "    <tr>\n",
       "      <th>0</th>\n",
       "      <td>0.798096</td>\n",
       "    </tr>\n",
       "    <tr>\n",
       "      <th>0</th>\n",
       "      <td>0.832195</td>\n",
       "    </tr>\n",
       "    <tr>\n",
       "      <th>0</th>\n",
       "      <td>0.793657</td>\n",
       "    </tr>\n",
       "    <tr>\n",
       "      <th>0</th>\n",
       "      <td>0.804409</td>\n",
       "    </tr>\n",
       "    <tr>\n",
       "      <th>0</th>\n",
       "      <td>0.813988</td>\n",
       "    </tr>\n",
       "    <tr>\n",
       "      <th>0</th>\n",
       "      <td>0.865251</td>\n",
       "    </tr>\n",
       "    <tr>\n",
       "      <th>0</th>\n",
       "      <td>0.824754</td>\n",
       "    </tr>\n",
       "    <tr>\n",
       "      <th>0</th>\n",
       "      <td>0.847556</td>\n",
       "    </tr>\n",
       "  </tbody>\n",
       "</table>\n",
       "</div>"
      ],
      "text/plain": [
       "   axon_diameter_mean\n",
       "0            0.840599\n",
       "0            0.839715\n",
       "0            0.798096\n",
       "0            0.832195\n",
       "0            0.793657\n",
       "0            0.804409\n",
       "0            0.813988\n",
       "0            0.865251\n",
       "0            0.824754\n",
       "0            0.847556"
      ]
     },
     "execution_count": 15,
     "metadata": {},
     "output_type": "execute_result"
    }
   ],
   "source": [
    "ax_diameter_mean = ax_concat['axon_diameter_mean']\n",
    "ax_diameter_mean\n",
    "ax_diameter_mean.to_csv('/misc/torrey/onarvaez/TMP/pandas_training/ct01/histology/nerve_b_intact/proc/ax_diameter_mean.csv')\n",
    "col_Names=[\"axon_diameter_mean\"]\n",
    "axon_diameter_mean = pd.read_csv('/misc/torrey/onarvaez/TMP/pandas_training/ct01/histology/nerve_b_intact/proc/ax_diameter_mean.csv',names=col_Names)\n",
    "axon_diameter_mean"
   ]
  },
  {
   "cell_type": "code",
   "execution_count": 16,
   "metadata": {
    "collapsed": true
   },
   "outputs": [],
   "source": [
    "axon_diameter_mean.to_csv('/misc/torrey/onarvaez/TMP/pandas_training/ct01/histology/nerve_b_intact/proc/axon_diameter_mean.csv')"
   ]
  },
  {
   "cell_type": "code",
   "execution_count": 17,
   "metadata": {
    "collapsed": true
   },
   "outputs": [],
   "source": [
    "#total axon and axon diameter mean concat"
   ]
  },
  {
   "cell_type": "code",
   "execution_count": 18,
   "metadata": {
    "collapsed": true
   },
   "outputs": [],
   "source": [
    "dog = pd.read_csv('/misc/torrey/onarvaez/TMP/pandas_training/ct01/histology/nerve_b_intact/proc/total_axon.csv')\n",
    "dog_1 = dog.drop('Unnamed: 0', axis=1)\n",
    "diam = pd.read_csv('/misc/torrey/onarvaez/TMP/pandas_training/ct01/histology/nerve_b_intact/proc/axon_diameter_mean.csv')\n",
    "diam_1 = diam.drop('Unnamed: 0', axis=1)"
   ]
  },
  {
   "cell_type": "code",
   "execution_count": 19,
   "metadata": {},
   "outputs": [
    {
     "data": {
      "text/html": [
       "<div>\n",
       "<style scoped>\n",
       "    .dataframe tbody tr th:only-of-type {\n",
       "        vertical-align: middle;\n",
       "    }\n",
       "\n",
       "    .dataframe tbody tr th {\n",
       "        vertical-align: top;\n",
       "    }\n",
       "\n",
       "    .dataframe thead th {\n",
       "        text-align: right;\n",
       "    }\n",
       "</style>\n",
       "<table border=\"1\" class=\"dataframe\">\n",
       "  <thead>\n",
       "    <tr style=\"text-align: right;\">\n",
       "      <th></th>\n",
       "      <th>total_axon</th>\n",
       "      <th>axon_diameter_mean</th>\n",
       "    </tr>\n",
       "  </thead>\n",
       "  <tbody>\n",
       "    <tr>\n",
       "      <th>0</th>\n",
       "      <td>3938</td>\n",
       "      <td>0.840599</td>\n",
       "    </tr>\n",
       "    <tr>\n",
       "      <th>1</th>\n",
       "      <td>3677</td>\n",
       "      <td>0.839715</td>\n",
       "    </tr>\n",
       "    <tr>\n",
       "      <th>2</th>\n",
       "      <td>4737</td>\n",
       "      <td>0.798096</td>\n",
       "    </tr>\n",
       "    <tr>\n",
       "      <th>3</th>\n",
       "      <td>3825</td>\n",
       "      <td>0.832195</td>\n",
       "    </tr>\n",
       "    <tr>\n",
       "      <th>4</th>\n",
       "      <td>4278</td>\n",
       "      <td>0.793657</td>\n",
       "    </tr>\n",
       "    <tr>\n",
       "      <th>5</th>\n",
       "      <td>4473</td>\n",
       "      <td>0.804409</td>\n",
       "    </tr>\n",
       "    <tr>\n",
       "      <th>6</th>\n",
       "      <td>4145</td>\n",
       "      <td>0.813988</td>\n",
       "    </tr>\n",
       "    <tr>\n",
       "      <th>7</th>\n",
       "      <td>3588</td>\n",
       "      <td>0.865251</td>\n",
       "    </tr>\n",
       "    <tr>\n",
       "      <th>8</th>\n",
       "      <td>3616</td>\n",
       "      <td>0.824754</td>\n",
       "    </tr>\n",
       "    <tr>\n",
       "      <th>9</th>\n",
       "      <td>3534</td>\n",
       "      <td>0.847556</td>\n",
       "    </tr>\n",
       "  </tbody>\n",
       "</table>\n",
       "</div>"
      ],
      "text/plain": [
       "   total_axon  axon_diameter_mean\n",
       "0        3938            0.840599\n",
       "1        3677            0.839715\n",
       "2        4737            0.798096\n",
       "3        3825            0.832195\n",
       "4        4278            0.793657\n",
       "5        4473            0.804409\n",
       "6        4145            0.813988\n",
       "7        3588            0.865251\n",
       "8        3616            0.824754\n",
       "9        3534            0.847556"
      ]
     },
     "execution_count": 19,
     "metadata": {},
     "output_type": "execute_result"
    }
   ],
   "source": [
    "diam_dog_concat = pd.concat([dog_1, diam_1], axis=1)\n",
    "diam_dog_concat"
   ]
  },
  {
   "cell_type": "code",
   "execution_count": 20,
   "metadata": {
    "collapsed": true
   },
   "outputs": [],
   "source": [
    "#total axon multiply axon diameter mean and sum"
   ]
  },
  {
   "cell_type": "code",
   "execution_count": 21,
   "metadata": {},
   "outputs": [
    {
     "data": {
      "text/html": [
       "<div>\n",
       "<style scoped>\n",
       "    .dataframe tbody tr th:only-of-type {\n",
       "        vertical-align: middle;\n",
       "    }\n",
       "\n",
       "    .dataframe tbody tr th {\n",
       "        vertical-align: top;\n",
       "    }\n",
       "\n",
       "    .dataframe thead th {\n",
       "        text-align: right;\n",
       "    }\n",
       "</style>\n",
       "<table border=\"1\" class=\"dataframe\">\n",
       "  <thead>\n",
       "    <tr style=\"text-align: right;\">\n",
       "      <th></th>\n",
       "      <th>total_axon</th>\n",
       "      <th>axon_diameter_mean</th>\n",
       "      <th>total_axon_x_axon_diameter</th>\n",
       "    </tr>\n",
       "  </thead>\n",
       "  <tbody>\n",
       "    <tr>\n",
       "      <th>0</th>\n",
       "      <td>3938</td>\n",
       "      <td>0.840599</td>\n",
       "      <td>3310.278074</td>\n",
       "    </tr>\n",
       "    <tr>\n",
       "      <th>1</th>\n",
       "      <td>3677</td>\n",
       "      <td>0.839715</td>\n",
       "      <td>3087.632055</td>\n",
       "    </tr>\n",
       "    <tr>\n",
       "      <th>2</th>\n",
       "      <td>4737</td>\n",
       "      <td>0.798096</td>\n",
       "      <td>3780.580278</td>\n",
       "    </tr>\n",
       "    <tr>\n",
       "      <th>3</th>\n",
       "      <td>3825</td>\n",
       "      <td>0.832195</td>\n",
       "      <td>3183.147405</td>\n",
       "    </tr>\n",
       "    <tr>\n",
       "      <th>4</th>\n",
       "      <td>4278</td>\n",
       "      <td>0.793657</td>\n",
       "      <td>3395.262935</td>\n",
       "    </tr>\n",
       "    <tr>\n",
       "      <th>5</th>\n",
       "      <td>4473</td>\n",
       "      <td>0.804409</td>\n",
       "      <td>3598.121457</td>\n",
       "    </tr>\n",
       "    <tr>\n",
       "      <th>6</th>\n",
       "      <td>4145</td>\n",
       "      <td>0.813988</td>\n",
       "      <td>3373.981504</td>\n",
       "    </tr>\n",
       "    <tr>\n",
       "      <th>7</th>\n",
       "      <td>3588</td>\n",
       "      <td>0.865251</td>\n",
       "      <td>3104.519153</td>\n",
       "    </tr>\n",
       "    <tr>\n",
       "      <th>8</th>\n",
       "      <td>3616</td>\n",
       "      <td>0.824754</td>\n",
       "      <td>2982.309379</td>\n",
       "    </tr>\n",
       "    <tr>\n",
       "      <th>9</th>\n",
       "      <td>3534</td>\n",
       "      <td>0.847556</td>\n",
       "      <td>2995.261490</td>\n",
       "    </tr>\n",
       "  </tbody>\n",
       "</table>\n",
       "</div>"
      ],
      "text/plain": [
       "   total_axon  axon_diameter_mean  total_axon_x_axon_diameter\n",
       "0        3938            0.840599                 3310.278074\n",
       "1        3677            0.839715                 3087.632055\n",
       "2        4737            0.798096                 3780.580278\n",
       "3        3825            0.832195                 3183.147405\n",
       "4        4278            0.793657                 3395.262935\n",
       "5        4473            0.804409                 3598.121457\n",
       "6        4145            0.813988                 3373.981504\n",
       "7        3588            0.865251                 3104.519153\n",
       "8        3616            0.824754                 2982.309379\n",
       "9        3534            0.847556                 2995.261490"
      ]
     },
     "execution_count": 21,
     "metadata": {},
     "output_type": "execute_result"
    }
   ],
   "source": [
    "diam_dog_concat['total_axon_x_axon_diameter'] = diam_dog_concat['total_axon'] * diam_dog_concat['axon_diameter_mean']\n",
    "diam_dog_concat"
   ]
  },
  {
   "cell_type": "code",
   "execution_count": 22,
   "metadata": {
    "collapsed": true
   },
   "outputs": [],
   "source": [
    "sum_ponderate_mean = diam_dog_concat['total_axon_x_axon_diameter'].sum()"
   ]
  },
  {
   "cell_type": "code",
   "execution_count": 23,
   "metadata": {
    "collapsed": true
   },
   "outputs": [],
   "source": [
    "sum_total_axon = diam_dog_concat['total_axon'].sum()"
   ]
  },
  {
   "cell_type": "code",
   "execution_count": 24,
   "metadata": {},
   "outputs": [
    {
     "data": {
      "text/plain": [
       "32811.093730399996"
      ]
     },
     "execution_count": 24,
     "metadata": {},
     "output_type": "execute_result"
    }
   ],
   "source": [
    "sum_ponderate_mean"
   ]
  },
  {
   "cell_type": "code",
   "execution_count": 25,
   "metadata": {},
   "outputs": [
    {
     "data": {
      "text/plain": [
       "39811"
      ]
     },
     "execution_count": 25,
     "metadata": {},
     "output_type": "execute_result"
    }
   ],
   "source": [
    "sum_total_axon"
   ]
  },
  {
   "cell_type": "code",
   "execution_count": 26,
   "metadata": {
    "collapsed": true
   },
   "outputs": [],
   "source": [
    "#axon diameter ponderate mean "
   ]
  },
  {
   "cell_type": "code",
   "execution_count": 27,
   "metadata": {},
   "outputs": [
    {
     "data": {
      "text/plain": [
       "0    0.824172\n",
       "dtype: float64"
      ]
     },
     "execution_count": 27,
     "metadata": {},
     "output_type": "execute_result"
    }
   ],
   "source": [
    "axon_diam_pond_mean = sum_ponderate_mean/sum_total_axon\n",
    "axon_diametro_pd_mean = pd.Series(axon_diam_pond_mean)\n",
    "axon_diametro_pd_mean.to_csv('/misc/torrey/onarvaez/TMP/pandas_training/ct01/histology/nerve_b_intact/proc/axon_diam_pon.csv')\n",
    "axon_diametro_pd_mean"
   ]
  },
  {
   "cell_type": "code",
   "execution_count": 28,
   "metadata": {},
   "outputs": [
    {
     "data": {
      "text/html": [
       "<div>\n",
       "<style scoped>\n",
       "    .dataframe tbody tr th:only-of-type {\n",
       "        vertical-align: middle;\n",
       "    }\n",
       "\n",
       "    .dataframe tbody tr th {\n",
       "        vertical-align: top;\n",
       "    }\n",
       "\n",
       "    .dataframe thead th {\n",
       "        text-align: right;\n",
       "    }\n",
       "</style>\n",
       "<table border=\"1\" class=\"dataframe\">\n",
       "  <thead>\n",
       "    <tr style=\"text-align: right;\">\n",
       "      <th></th>\n",
       "      <th>axon_diameter_pd_mean</th>\n",
       "    </tr>\n",
       "  </thead>\n",
       "  <tbody>\n",
       "    <tr>\n",
       "      <th>0</th>\n",
       "      <td>0.824172</td>\n",
       "    </tr>\n",
       "  </tbody>\n",
       "</table>\n",
       "</div>"
      ],
      "text/plain": [
       "   axon_diameter_pd_mean\n",
       "0               0.824172"
      ]
     },
     "execution_count": 28,
     "metadata": {},
     "output_type": "execute_result"
    }
   ],
   "source": [
    "nombre_columna=[\"axon_diameter_pd_mean\"]\n",
    "diam_pon = pd.read_csv('/misc/torrey/onarvaez/TMP/pandas_training/ct01/histology/nerve_b_intact/proc/axon_diam_pon.csv',names=nombre_columna)\n",
    "diam_pon"
   ]
  },
  {
   "cell_type": "code",
   "execution_count": 29,
   "metadata": {
    "collapsed": true
   },
   "outputs": [],
   "source": [
    "all_pon_mean_concat = pd.concat([diam_dog_concat, diam_pon], axis=1)\n",
    "all_pon_mean_concat.to_csv('/misc/torrey/onarvaez/TMP/pandas_training/ct01/histology/nerve_b_intact/proc/axon_diam_pd_mean_final.csv')"
   ]
  },
  {
   "cell_type": "code",
   "execution_count": 30,
   "metadata": {},
   "outputs": [
    {
     "data": {
      "text/html": [
       "<div>\n",
       "<style scoped>\n",
       "    .dataframe tbody tr th:only-of-type {\n",
       "        vertical-align: middle;\n",
       "    }\n",
       "\n",
       "    .dataframe tbody tr th {\n",
       "        vertical-align: top;\n",
       "    }\n",
       "\n",
       "    .dataframe thead th {\n",
       "        text-align: right;\n",
       "    }\n",
       "</style>\n",
       "<table border=\"1\" class=\"dataframe\">\n",
       "  <thead>\n",
       "    <tr style=\"text-align: right;\">\n",
       "      <th></th>\n",
       "      <th>total_axon</th>\n",
       "      <th>axon_diameter_mean</th>\n",
       "      <th>total_axon_x_axon_diameter</th>\n",
       "      <th>axon_diameter_pd_mean</th>\n",
       "    </tr>\n",
       "  </thead>\n",
       "  <tbody>\n",
       "    <tr>\n",
       "      <th>0</th>\n",
       "      <td>3938</td>\n",
       "      <td>0.840599</td>\n",
       "      <td>3310.278074</td>\n",
       "      <td>0.8241715538519504</td>\n",
       "    </tr>\n",
       "    <tr>\n",
       "      <th>1</th>\n",
       "      <td>3677</td>\n",
       "      <td>0.839715</td>\n",
       "      <td>3087.632055</td>\n",
       "      <td></td>\n",
       "    </tr>\n",
       "    <tr>\n",
       "      <th>2</th>\n",
       "      <td>4737</td>\n",
       "      <td>0.798096</td>\n",
       "      <td>3780.580278</td>\n",
       "      <td></td>\n",
       "    </tr>\n",
       "    <tr>\n",
       "      <th>3</th>\n",
       "      <td>3825</td>\n",
       "      <td>0.832195</td>\n",
       "      <td>3183.147405</td>\n",
       "      <td></td>\n",
       "    </tr>\n",
       "    <tr>\n",
       "      <th>4</th>\n",
       "      <td>4278</td>\n",
       "      <td>0.793657</td>\n",
       "      <td>3395.262935</td>\n",
       "      <td></td>\n",
       "    </tr>\n",
       "    <tr>\n",
       "      <th>5</th>\n",
       "      <td>4473</td>\n",
       "      <td>0.804409</td>\n",
       "      <td>3598.121457</td>\n",
       "      <td></td>\n",
       "    </tr>\n",
       "    <tr>\n",
       "      <th>6</th>\n",
       "      <td>4145</td>\n",
       "      <td>0.813988</td>\n",
       "      <td>3373.981504</td>\n",
       "      <td></td>\n",
       "    </tr>\n",
       "    <tr>\n",
       "      <th>7</th>\n",
       "      <td>3588</td>\n",
       "      <td>0.865251</td>\n",
       "      <td>3104.519153</td>\n",
       "      <td></td>\n",
       "    </tr>\n",
       "    <tr>\n",
       "      <th>8</th>\n",
       "      <td>3616</td>\n",
       "      <td>0.824754</td>\n",
       "      <td>2982.309379</td>\n",
       "      <td></td>\n",
       "    </tr>\n",
       "    <tr>\n",
       "      <th>9</th>\n",
       "      <td>3534</td>\n",
       "      <td>0.847556</td>\n",
       "      <td>2995.261490</td>\n",
       "      <td></td>\n",
       "    </tr>\n",
       "  </tbody>\n",
       "</table>\n",
       "</div>"
      ],
      "text/plain": [
       "   total_axon  axon_diameter_mean  total_axon_x_axon_diameter  \\\n",
       "0        3938            0.840599                 3310.278074   \n",
       "1        3677            0.839715                 3087.632055   \n",
       "2        4737            0.798096                 3780.580278   \n",
       "3        3825            0.832195                 3183.147405   \n",
       "4        4278            0.793657                 3395.262935   \n",
       "5        4473            0.804409                 3598.121457   \n",
       "6        4145            0.813988                 3373.981504   \n",
       "7        3588            0.865251                 3104.519153   \n",
       "8        3616            0.824754                 2982.309379   \n",
       "9        3534            0.847556                 2995.261490   \n",
       "\n",
       "  axon_diameter_pd_mean  \n",
       "0    0.8241715538519504  \n",
       "1                        \n",
       "2                        \n",
       "3                        \n",
       "4                        \n",
       "5                        \n",
       "6                        \n",
       "7                        \n",
       "8                        \n",
       "9                        "
      ]
     },
     "execution_count": 30,
     "metadata": {},
     "output_type": "execute_result"
    }
   ],
   "source": [
    "diam_final = pd.read_csv('/misc/torrey/onarvaez/TMP/pandas_training/ct01/histology/nerve_b_intact/proc/axon_diam_pd_mean_final.csv', keep_default_na=False)\n",
    "diam_final_1 = diam_final.drop('Unnamed: 0', axis=1)\n",
    "diam_final_1"
   ]
  },
  {
   "cell_type": "code",
   "execution_count": null,
   "metadata": {
    "collapsed": true
   },
   "outputs": [],
   "source": []
  }
 ],
 "metadata": {
  "kernelspec": {
   "display_name": "Python 3",
   "language": "python",
   "name": "python3"
  },
  "language_info": {
   "codemirror_mode": {
    "name": "ipython",
    "version": 3
   },
   "file_extension": ".py",
   "mimetype": "text/x-python",
   "name": "python",
   "nbconvert_exporter": "python",
   "pygments_lexer": "ipython3",
   "version": "3.6.3"
  }
 },
 "nbformat": 4,
 "nbformat_minor": 2
}
